{
 "cells": [
  {
   "cell_type": "markdown",
   "id": "fb0c1233-6e4d-4ca5-9c7e-7e93e4d16e86",
   "metadata": {},
   "source": [
    "Q1: What are the Probability Mass Function (PMF) and Probability Density Function (PDF)? Explain with\n",
    "an example."
   ]
  },
  {
   "cell_type": "markdown",
   "id": "16db5b34-43ed-4e9d-bc3c-dd38b150221d",
   "metadata": {},
   "source": [
    "The PMF is used for discrete random variables, while the PDF is used for continuous random variables\n",
    "ex-roling a dice\n",
    "{1,2,3,4,56,5,5,3}\n",
    "pr(1)=1/6\n",
    "pr(2)=1/6\n",
    "ex-"
   ]
  },
  {
   "cell_type": "markdown",
   "id": "846317b4-7263-489b-a142-4d44898ef336",
   "metadata": {},
   "source": [
    "Q2: What is Cumulative Density Function (CDF)? Explain with an example. Why CDF is used?"
   ]
  },
  {
   "cell_type": "markdown",
   "id": "7292d5a9-8c87-4344-a41d-6fb6f23cbe32",
   "metadata": {},
   "source": [
    "The CDF gives the probability that a random variable takes on a value less than or equal to a specific value.\n"
   ]
  },
  {
   "cell_type": "markdown",
   "id": "2e62c803-38de-4811-9dd0-5156bb44a91c",
   "metadata": {},
   "source": [
    "Q4: Explain the importance of Normal Distribution. Give a few real-life examples of Normal\n",
    "Distribution."
   ]
  },
  {
   "cell_type": "markdown",
   "id": "74fb5190-4583-439c-ae63-6a27ee1828a5",
   "metadata": {},
   "source": [
    "in statistcs a normal distribution is a type continous probabilty distribution for a real_valued randam variable\n",
    "ex=height of the student in class"
   ]
  },
  {
   "cell_type": "markdown",
   "id": "375ebc66-38a7-475b-b673-7cd397245c05",
   "metadata": {},
   "source": [
    "Q5: What is Bernaulli Distribution? Give an Example. What is the difference between Bernoulli\n",
    "Distribution and Binomial Distribution?"
   ]
  },
  {
   "cell_type": "markdown",
   "id": "5e525d76-5026-4f41-875b-74c51aa79b9b",
   "metadata": {},
   "source": [
    "The Bernoulli distribution is a discrete probability distribution with only two possible outcomes (success or failure) in a single trial.\n",
    "discrcte randam variable every experiment outcome is binaty"
   ]
  },
  {
   "cell_type": "markdown",
   "id": "cdf56e2a-ed48-4f6a-b025-030b802e92f0",
   "metadata": {},
   "source": [
    "Q7: Explain uniform Distribution with an example."
   ]
  },
  {
   "cell_type": "markdown",
   "id": "6cc6c843-9393-4bf4-bbfd-8b48be216e25",
   "metadata": {},
   "source": [
    " The Uniform distribution is often used to model situations where all outcomes between two limits are equally likely."
   ]
  },
  {
   "cell_type": "markdown",
   "id": "eda1e287-b076-4b9d-be84-a61aa825ef2e",
   "metadata": {},
   "source": [
    "Q8: What is the z score? State the importance of the z score."
   ]
  },
  {
   "cell_type": "code",
   "execution_count": null,
   "id": "5da24534-2930-4228-b866-ac87eab285ef",
   "metadata": {},
   "outputs": [],
   "source": [
    "A Z-score is a measure of how many standard deviations a value is from the mean of a normal distribution. By converting a value to a Z-score, we can compare it to other values in the same distribution."
   ]
  }
 ],
 "metadata": {
  "kernelspec": {
   "display_name": "Python 3 (ipykernel)",
   "language": "python",
   "name": "python3"
  },
  "language_info": {
   "codemirror_mode": {
    "name": "ipython",
    "version": 3
   },
   "file_extension": ".py",
   "mimetype": "text/x-python",
   "name": "python",
   "nbconvert_exporter": "python",
   "pygments_lexer": "ipython3",
   "version": "3.10.8"
  }
 },
 "nbformat": 4,
 "nbformat_minor": 5
}
