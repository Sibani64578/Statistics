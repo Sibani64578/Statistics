{
 "cells": [
  {
   "cell_type": "markdown",
   "id": "c831ec9d-60c9-4ca7-aa41-5a3709032cb5",
   "metadata": {},
   "source": [
    "Q1: What is the difference between a t-test and a z-test? Provide an example scenario where you would\n",
    "use each type of test."
   ]
  },
  {
   "cell_type": "code",
   "execution_count": null,
   "id": "e9db69fb-be8a-43b9-a0ad-b0c7d0df71ce",
   "metadata": {},
   "outputs": [],
   "source": [
    "do you know the populatin std.\n",
    "1=size of the sample six=ze avove30?\n",
    "use t test use thw z test\n",
    "if no then use t_test"
   ]
  },
  {
   "cell_type": "markdown",
   "id": "1a64a45b-fc0d-4ed2-a6c1-b45fe73d815c",
   "metadata": {},
   "source": [
    "Q2: Differentiate between one-tailed and two-tailed tests."
   ]
  },
  {
   "cell_type": "markdown",
   "id": "8f83eab8-f8a9-4333-a5c3-37e00ecff4bb",
   "metadata": {},
   "source": [
    "A one-tailed test is used when the alternative hypothesis specifies a direction of effect or difference. In other words, you're interested in whether a parameter is significantly larger or smaller than a certain value\n",
    "\n",
    "A two-tailed test is used when the alternative hypothesis does not specify a direction of effect or difference"
   ]
  },
  {
   "cell_type": "markdown",
   "id": "ac49cd4b-3a1c-40ae-b0b5-6ec771f876ef",
   "metadata": {},
   "source": [
    "Q3: Explain the concept of Type 1 and Type 2 errors in hypothesis testing. Provide an example scenario for\n",
    "each type of error."
   ]
  },
  {
   "cell_type": "markdown",
   "id": "c64cab4e-b03c-473a-8a08-cc505053212d",
   "metadata": {},
   "source": [
    "reality=null hypotesis is true and null hypotesis is false\n",
    "desion=conclusion"
   ]
  },
  {
   "cell_type": "markdown",
   "id": "5a1166e4-a067-4e83-a22a-d9a08da1d9ea",
   "metadata": {},
   "source": [
    "Q4: Explain Bayes's theorem with an example."
   ]
  },
  {
   "cell_type": "markdown",
   "id": "e2e0b1ce-3a68-48a7-9938-7b04d878da69",
   "metadata": {},
   "source": [
    "ther are two types one is independent and an other is dependen\n",
    "ex=rolling a dise\n",
    "ex=probalbilty or 3 red and 2 yello boll"
   ]
  },
  {
   "cell_type": "code",
   "execution_count": null,
   "id": "fe8bebd2-64f8-4f56-8e23-1d1b3d470479",
   "metadata": {},
   "outputs": [],
   "source": []
  }
 ],
 "metadata": {
  "kernelspec": {
   "display_name": "Python 3 (ipykernel)",
   "language": "python",
   "name": "python3"
  },
  "language_info": {
   "codemirror_mode": {
    "name": "ipython",
    "version": 3
   },
   "file_extension": ".py",
   "mimetype": "text/x-python",
   "name": "python",
   "nbconvert_exporter": "python",
   "pygments_lexer": "ipython3",
   "version": "3.10.8"
  }
 },
 "nbformat": 4,
 "nbformat_minor": 5
}
