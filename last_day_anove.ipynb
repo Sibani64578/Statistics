{
 "cells": [
  {
   "cell_type": "markdown",
   "id": "cbe421c9-a662-45b6-a0ea-bdf250e078f1",
   "metadata": {},
   "source": [
    "Q1. Explain the assumptions required to use ANOVA and provide examples of violations that could impact\n",
    "the validity of the results."
   ]
  },
  {
   "cell_type": "markdown",
   "id": "e7922301-f5b0-4fd2-8529-1b6251f25b5e",
   "metadata": {},
   "source": [
    "i.normalty of sampling distribution of means .the distribution of sample mean is normaly distrutes.\n",
    "ii.abserce of out line:outcome score neel to be remove from data set\n",
    "iii.each one of the poputaltion has same variance"
   ]
  },
  {
   "cell_type": "markdown",
   "id": "d0df8f2e-104a-43fd-a8d8-430f5b425a3f",
   "metadata": {},
   "source": [
    "Q2. What are the three types of ANOVA, and in what situations would each be used?"
   ]
  },
  {
   "cell_type": "markdown",
   "id": "a7e95478-2f7d-4a43-9270-f8d96be94b41",
   "metadata": {},
   "source": [
    "i.one way anove:one factor with atleast 2 level's these are indipendent.\n",
    "ii.repeated measury anova:one factor with atlonat 2 levels,leves are dependents.\n",
    "iii.Factorial.two or more each of which with atlist two lenelsy,levels can be either independent and dependent.\n"
   ]
  },
  {
   "cell_type": "markdown",
   "id": "545b1aef-e1af-4af1-b2df-fbe4bd5ad710",
   "metadata": {},
   "source": [
    "Q3. What is the partitioning of variance in ANOVA, and why is it important to understand this concept?"
   ]
  },
  {
   "cell_type": "markdown",
   "id": "1d6b4540-6153-4a28-82b9-cfaab9447120",
   "metadata": {},
   "source": [
    "Q4. How would you calculate the total sum of squares (SST), explained sum of squares (SSE), and residual\n",
    "sum of squares (SSR) in a one-way ANOVA using Python?"
   ]
  },
  {
   "cell_type": "code",
   "execution_count": 1,
   "id": "2fccc02f-e3af-4f2a-88cb-1802e0a1da1b",
   "metadata": {},
   "outputs": [
    {
     "name": "stdout",
     "output_type": "stream",
     "text": [
      "Total Sum of Squares (SST): 423.33333333333337\n",
      "Explained Sum of Squares (SSE): 13.333333333333334\n",
      "Residual Sum of Squares (SSR): 410.00000000000006\n",
      "F-Statistic: 0.19512195121951217\n",
      "p-value: 0.8252933446974207\n"
     ]
    }
   ],
   "source": [
    "import numpy as np\n",
    "from scipy import stats\n",
    "\n",
    "# Example data for three groups\n",
    "group1 = np.array([12, 15, 18, 21, 24])\n",
    "group2 = np.array([10, 14, 18, 22, 26])\n",
    "group3 = np.array([8, 12, 16, 20, 24])\n",
    "\n",
    "# Combine the data into a single array\n",
    "data = np.concatenate((group1, group2, group3))\n",
    "\n",
    "# Calculate overall mean\n",
    "overall_mean = np.mean(data)\n",
    "\n",
    "# Calculate total sum of squares (SST)\n",
    "sst = np.sum((data - overall_mean)**2)\n",
    "\n",
    "# Calculate group means\n",
    "group1_mean = np.mean(group1)\n",
    "group2_mean = np.mean(group2)\n",
    "group3_mean = np.mean(group3)\n",
    "\n",
    "# Calculate explained sum of squares (SSE)\n",
    "sse = np.sum((group1_mean - overall_mean)**2) * len(group1) + \\\n",
    "      np.sum((group2_mean - overall_mean)**2) * len(group2) + \\\n",
    "      np.sum((group3_mean - overall_mean)**2) * len(group3)\n",
    "\n",
    "# Calculate residual sum of squares (SSR)\n",
    "ssr = sst - sse\n",
    "\n",
    "# Degrees of freedom\n",
    "df_total = len(data) - 1\n",
    "df_group = 3 - 1  # Number of groups minus 1\n",
    "df_error = df_total - df_group\n",
    "\n",
    "# Mean squares\n",
    "mse = ssr / df_error\n",
    "\n",
    "# F-statistic\n",
    "f_statistic = (sse / df_group) / mse\n",
    "\n",
    "# p-value\n",
    "p_value = 1 - stats.f.cdf(f_statistic, df_group, df_error)\n",
    "\n",
    "print(\"Total Sum of Squares (SST):\", sst)\n",
    "print(\"Explained Sum of Squares (SSE):\", sse)\n",
    "print(\"Residual Sum of Squares (SSR):\", ssr)\n",
    "print(\"F-Statistic:\", f_statistic)\n",
    "print(\"p-value:\", p_value)\n"
   ]
  },
  {
   "cell_type": "code",
   "execution_count": null,
   "id": "0d57ced2-103d-483d-892f-d657f1450de1",
   "metadata": {},
   "outputs": [],
   "source": []
  }
 ],
 "metadata": {
  "kernelspec": {
   "display_name": "Python 3 (ipykernel)",
   "language": "python",
   "name": "python3"
  },
  "language_info": {
   "codemirror_mode": {
    "name": "ipython",
    "version": 3
   },
   "file_extension": ".py",
   "mimetype": "text/x-python",
   "name": "python",
   "nbconvert_exporter": "python",
   "pygments_lexer": "ipython3",
   "version": "3.10.8"
  }
 },
 "nbformat": 4,
 "nbformat_minor": 5
}
