{
 "cells": [
  {
   "cell_type": "markdown",
   "id": "3b26f8b9-b12d-4a4e-9890-480d9f0121cb",
   "metadata": {},
   "source": [
    "Q1. What is Statistics?"
   ]
  },
  {
   "cell_type": "markdown",
   "id": "22c89cd8-564e-40ab-9e0c-45509a5501ec",
   "metadata": {},
   "source": [
    "Statistics is the science of collecting,organizin,analying data"
   ]
  },
  {
   "cell_type": "markdown",
   "id": "e739c4e4-5973-43fe-a758-33935b14bad7",
   "metadata": {},
   "source": [
    "Q2. Define the different types of statistics and give an example of when each type might be used."
   ]
  },
  {
   "cell_type": "markdown",
   "id": "9faa70dc-e7f4-4685-a0c4-6f5268dc505a",
   "metadata": {},
   "source": [
    "There are two types of statistics \n",
    "1.Descriptive :-It Consists of organizing and sumarizing data.\n",
    "    i.measure of central tendency[mean,median,mode]\n",
    "    ii.measure of dispersion[variance,std]\n",
    "    iii.Differant type of Distribution of data like histogram,pdf,pmf\n",
    "2.Infesonial Statistics:-It consists of using data you have measured to from Conclusion.\n",
    "    i.Z-test\n",
    "    ii.T-test\n",
    "    iii.CMI souraf"
   ]
  },
  {
   "cell_type": "markdown",
   "id": "66a59642-8420-4511-ac59-b9b7f2a4230a",
   "metadata": {},
   "source": [
    "Q3. What are the different types of data and how do they differ from each other? Provide an example of\n",
    "each type of data."
   ]
  },
  {
   "cell_type": "markdown",
   "id": "32a97e00-7e5d-47b6-807c-80dd3f8f649e",
   "metadata": {},
   "source": [
    "Facts or picus of information\n",
    "                                [Data]\n",
    "    \n",
    "            [Quantitative]                 [Qualitative]\n",
    "        \n",
    "    [Discretiv]   [Continuous]     [Nominal]             [odinal]\n",
    "    \n",
    "    Quantitative:-Numarical variable                        Qualitative:-catagoricsl vsrisblre ot dsts\n",
    "                                                          Nominal:-No range like mail or fimal,blood group\n",
    "                        \n",
    "    Discretiv:-Whole number                               Odinsl:-rank good,bettr bad\n",
    "    Continuous:-any number\n",
    "    "
   ]
  },
  {
   "cell_type": "markdown",
   "id": "b4eb45c8-fe9b-4024-acde-7a421beb15ac",
   "metadata": {},
   "source": [
    "Q4. Categorise the following datasets with respect to quantitative and qualitative data types:\n",
    "(i) Grading in exam: A+, A, B+, B, C+, C, D, E=====quantitative\n",
    "(ii) Colour of mangoes: yellow, green, orange, red=======quantitative\n",
    "(iii) Height data of a class: [178.9, 179, 179.5, 176, 177.2, 178.3, 175.8,...]======quantitative\n",
    "(iv) Number of mangoes exported by a farm: [500, 600, 478, 672, ...]====quantitative"
   ]
  },
  {
   "cell_type": "markdown",
   "id": "c75c44e3-2606-4c23-874e-7b585fde3369",
   "metadata": {},
   "source": [
    "Q5. Explain the concept of levels of measurement and give an example of a variable for each level."
   ]
  },
  {
   "cell_type": "markdown",
   "id": "d47e9b4a-ed66-47ce-bfc3-78bd24f54fe4",
   "metadata": {},
   "source": [
    "4 types of scal measurement\n"
   ]
  },
  {
   "cell_type": "markdown",
   "id": "5552cc10-7c2e-4d05-97f6-7209caaff97f",
   "metadata": {},
   "source": [
    "1.Nominal scale data:-\n",
    "                    i.Qualitative/Catagorical data\n",
    "                    ii.gender,colors\n",
    "                    iii.order dose not matter\n",
    "2.Ordinal scale dataa:-\n",
    "                    i.Ranking is important\n",
    "                    ii.order metter \n",
    "                    iii.Difference cannot be measured\n",
    "3.Intorval scaledata:-\n",
    "                    i.The order matter \n",
    "                    ii.Differeance can be Measured \n",
    "                    iii.Ratio cannot be mesured\n",
    "                    iv.No true \"0\" Sturting point\n",
    "4.Ratio scale data:-\n",
    "                    i.order matter\n",
    "                    ii.differces are measurabel(including ratio)\n",
    "                    iii.contains a \"0\" Staring point"
   ]
  },
  {
   "cell_type": "markdown",
   "id": "958f4ee0-bb70-4c74-bc53-2008db8692b5",
   "metadata": {},
   "source": [
    "Q6. Why is it important to understand the level of measurement when analyzing data? Provide an\n",
    "example to illustrate your answer."
   ]
  },
  {
   "cell_type": "markdown",
   "id": "a02c9f89-3673-48ea-9639-7186050ba3bb",
   "metadata": {},
   "source": [
    "Understanding the level of measurement is crucial when analyzing data because it determines the appropriate statistical techniques and operations"
   ]
  },
  {
   "cell_type": "markdown",
   "id": "9da18be0-ba67-49ad-b411-2b2f50f1dd5b",
   "metadata": {},
   "source": [
    "Q7. How nominal data type is different from ordinal data type."
   ]
  },
  {
   "cell_type": "markdown",
   "id": "65e2cedf-6d21-43d5-b6cb-0fcb3409226a",
   "metadata": {},
   "source": [
    "1.Nominal scale data:-\n",
    "                    i.Qualitative/Catagorical data\n",
    "                    ii.gender,colors\n",
    "                    iii.order dose not matter\n",
    "2.Ordinal scale dataa:-\n",
    "                    i.Ranking is important\n",
    "                    ii.order metter \n",
    "                    iii.Difference cannot be measured\n"
   ]
  },
  {
   "cell_type": "markdown",
   "id": "33dcc08c-1bcb-49c3-9fbd-9d4facb27328",
   "metadata": {},
   "source": [
    "Q8. Which type of plot can be used to display data in terms of range?"
   ]
  },
  {
   "cell_type": "markdown",
   "id": "6c562927-e4da-4f55-b7a9-a4f0ca71124d",
   "metadata": {},
   "source": []
  },
  {
   "cell_type": "markdown",
   "id": "77f71e3f-de96-4d0c-9afb-761e68a798a4",
   "metadata": {},
   "source": [
    "Q9. Describe the difference between descriptive and inferential statistics. Give an example of each\n",
    "type of statistics and explain how they are used."
   ]
  },
  {
   "cell_type": "markdown",
   "id": "49297725-5aa3-4257-ae12-01144a088053",
   "metadata": {},
   "source": [
    "There are two types of statistics \n",
    "1.Descriptive :-It Consists of organizing and sumarizing data.\n",
    "    i.measure of central tendency[mean,median,mode]\n",
    "    ii.measure of dispersion[variance,std]\n",
    "    iii.Differant type of Distribution of data like histogram,pdf,pmf\n",
    "2.Infesonial Statistics:-It consists of using data you have measured to from Conclusion.\n",
    "    i.Z-test\n",
    "    ii.T-test\n",
    "    iii.CMI souraf"
   ]
  },
  {
   "cell_type": "markdown",
   "id": "76512700-1122-4164-9401-2f371f317a3a",
   "metadata": {},
   "source": [
    "Q10. What are some common measures of central tendency and variability used in statistics? Explain\n",
    "how each measure can be used to describe a dataset."
   ]
  },
  {
   "cell_type": "markdown",
   "id": "db73ec5c-2b61-4014-8d8b-5cde5745766e",
   "metadata": {},
   "source": []
  }
 ],
 "metadata": {
  "kernelspec": {
   "display_name": "Python 3 (ipykernel)",
   "language": "python",
   "name": "python3"
  },
  "language_info": {
   "codemirror_mode": {
    "name": "ipython",
    "version": 3
   },
   "file_extension": ".py",
   "mimetype": "text/x-python",
   "name": "python",
   "nbconvert_exporter": "python",
   "pygments_lexer": "ipython3",
   "version": "3.10.8"
  }
 },
 "nbformat": 4,
 "nbformat_minor": 5
}
