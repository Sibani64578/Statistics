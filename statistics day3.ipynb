{
 "cells": [
  {
   "cell_type": "markdown",
   "id": "519edf2d-9e1f-44c4-be7e-66450127d14b",
   "metadata": {},
   "source": [
    "Q1. What is the Probability density function?"
   ]
  },
  {
   "cell_type": "markdown",
   "id": "3ac4e6fa-da81-4a5b-bab5-99fa7504bb2d",
   "metadata": {},
   "source": [
    "Distribution of continuoes Random variable"
   ]
  },
  {
   "cell_type": "markdown",
   "id": "a21cc19d-a87a-4a16-918f-dacbd10779ac",
   "metadata": {},
   "source": [
    "Q2. What are the types of Probability distribution?"
   ]
  },
  {
   "cell_type": "markdown",
   "id": "952fcfe5-b58f-477c-b6eb-fcb972b45fb4",
   "metadata": {},
   "source": [
    "Bernauli,Binomial,Posisson,Normal or Gaussian,Uniform"
   ]
  },
  {
   "cell_type": "markdown",
   "id": "5ae6e46c-75a4-43e1-bf3a-5fea04e8ab85",
   "metadata": {},
   "source": [
    "Q3. Write a Python function to calculate the probability density function of a normal distribution with\n",
    "given mean and standard deviation at a given point."
   ]
  },
  {
   "cell_type": "code",
   "execution_count": 1,
   "id": "014941ff-6961-4606-8c50-b2badbbb058b",
   "metadata": {},
   "outputs": [],
   "source": [
    "import math\n",
    "\n",
    "def normal_pdf(x, mean, std_dev):\n",
    "    coefficient = 1 / (std_dev * math.sqrt(2 * math.pi))\n",
    "    exponent = -0.5 * ((x - mean) / std_dev) ** 2\n",
    "    pdf_value = coefficient * math.exp(exponent)\n",
    "    return pdf_value\n"
   ]
  },
  {
   "cell_type": "code",
   "execution_count": 5,
   "id": "acb2196f-b477-4c70-855e-b3dfa882321a",
   "metadata": {},
   "outputs": [],
   "source": [
    "mean = 0\n",
    "std_dev = 1\n",
    "x = 1\n",
    "pdf_at_x = normal_pdf(x, mean, std_dev)\n"
   ]
  },
  {
   "cell_type": "code",
   "execution_count": 4,
   "id": "1686d070-279b-44c4-b5e4-ec79a0776e64",
   "metadata": {},
   "outputs": [
    {
     "data": {
      "text/plain": [
       "0.24197072451914337"
      ]
     },
     "execution_count": 4,
     "metadata": {},
     "output_type": "execute_result"
    }
   ],
   "source": [
    "pdf_at_x"
   ]
  },
  {
   "cell_type": "markdown",
   "id": "d58ec46a-4a0d-478e-bf07-724c5db67b59",
   "metadata": {},
   "source": [
    "Q4. What are the properties of Binomial distribution? Give two examples of events where binomial\n",
    "distribution can be applied."
   ]
  },
  {
   "cell_type": "markdown",
   "id": "25f1a3bb-f52b-4da9-8bac-88afc7124aa6",
   "metadata": {},
   "source": [
    "i.Discrcte random variable\n",
    "ii.every experiment outcome is binary\n",
    "iii.these experiment is pertected for n time\n",
    "ex:-Tossing a coin 10 time"
   ]
  },
  {
   "cell_type": "markdown",
   "id": "01e507aa-7cf8-4359-84b9-7befcb59db2c",
   "metadata": {},
   "source": [
    "Q5. Generate a random sample of size 1000 from a binomial distribution with probability of success 0.4\n",
    "and plot a histogram of the results using matplotlib."
   ]
  },
  {
   "cell_type": "code",
   "execution_count": 20,
   "id": "c4bce360-a134-4627-9fec-8bd8e43dbb79",
   "metadata": {},
   "outputs": [
    {
     "data": {
      "image/png": "[encoded data removed]",
      "text/plain": [
       "<Figure size 640x480 with 1 Axes>"
      ]
     },
     "metadata": {},
     "output_type": "display_data"
    }
   ],
   "source": [
    "import numpy as np\n",
    "import matplotlib.pyplot as plt\n",
    "\n",
    "sample_size = 1000\n",
    "probability_success = 0.4\n",
    "\n",
    "plt.hist(sample)\n",
    "\n",
    "plt.show()\n"
   ]
  },
  {
   "cell_type": "markdown",
   "id": "c90b74a5-f971-4b17-9651-39dee6d3d896",
   "metadata": {},
   "source": [
    "Q7. How Binomial distribution different from Poisson distribution?"
   ]
  },
  {
   "cell_type": "markdown",
   "id": "14899a1f-822c-4d63-96f3-e21c7b9753e1",
   "metadata": {},
   "source": [
    "Binomial\n",
    "i.Discrcte random variable\n",
    "ii.every experiment outcome is binary\n",
    "iii.these experiment is pertected for n time\n",
    "Poisson.\n",
    "\n",
    "i.Dicrete randam variable \n",
    "ii.describus the number of events occuring in a fixed time interral\n",
    "\n"
   ]
  },
  {
   "cell_type": "markdown",
   "id": "b115a676-df1c-4097-939d-1d545aef2fdb",
   "metadata": {},
   "source": []
  }
 ],
 "metadata": {
  "kernelspec": {
   "display_name": "Python 3 (ipykernel)",
   "language": "python",
   "name": "python3"
  },
  "language_info": {
   "codemirror_mode": {
    "name": "ipython",
    "version": 3
   },
   "file_extension": ".py",
   "mimetype": "text/x-python",
   "name": "python",
   "nbconvert_exporter": "python",
   "pygments_lexer": "ipython3",
   "version": "3.10.8"
  }
 },
 "nbformat": 4,
 "nbformat_minor": 5
}
