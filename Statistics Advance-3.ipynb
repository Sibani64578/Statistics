{
 "cells": [
  {
   "cell_type": "markdown",
   "id": "7062eeb9-02f6-482e-bc52-b57788c3b479",
   "metadata": {},
   "source": [
    "Q1: What is Estimation Statistics? Explain point estimate and interval estimate."
   ]
  },
  {
   "cell_type": "markdown",
   "id": "dc3e91fd-6c80-4a41-bda5-863dded046c8",
   "metadata": {},
   "source": [
    "it is a abserverd numerical value used to estimente an unknown popupation parameter\n",
    "point=a singel numarical value used to estimate unkhown population parameter\n",
    "interval=range of vslues used to estiment the unkhon popalation parameters"
   ]
  },
  {
   "cell_type": "markdown",
   "id": "410a7915-7f39-4fc8-92f0-626ea338bf9c",
   "metadata": {},
   "source": [
    "Q2. Write a Python function to estimate the population mean using a sample mean and standard\n",
    "deviation."
   ]
  },
  {
   "cell_type": "code",
   "execution_count": 1,
   "id": "97dd380b-a80d-405c-a1e7-4d84b6ea6e95",
   "metadata": {},
   "outputs": [
    {
     "name": "stdout",
     "output_type": "stream",
     "text": [
      "Estimated Population Mean: 150\n"
     ]
    }
   ],
   "source": [
    "def estimate_population_mean(sample_mean, sample_std_dev, sample_size):\n",
    " \n",
    "    estimated_population_mean = sample_mean\n",
    "    return estimated_population_mean\n",
    "sample_mean = 150\n",
    "sample_std_dev = 25\n",
    "sample_size = 100\n",
    "estimated_mean = estimate_population_mean(sample_mean, sample_std_dev, sample_size)\n",
    "print(f\"Estimated Population Mean: {estimated_mean}\")\n"
   ]
  },
  {
   "cell_type": "markdown",
   "id": "e398c748-03f4-41b4-a071-fe96adb73af3",
   "metadata": {},
   "source": [
    "Q3: What is Hypothesis testing? Why is it used? State the importance of Hypothesis testing."
   ]
  },
  {
   "cell_type": "markdown",
   "id": "67522c65-a346-40df-acd8-23750bfae0d9",
   "metadata": {},
   "source": [
    "Hypothesis testing is a statistical method used to make inferences or decisions about a population based on a sample of data.\n",
    "the use to conclusion or inference\n",
    "1.null hypothesis\n",
    "2.alternate hypotesis\n",
    "3.experimental\n",
    "4.aceept the null hypotesid or reject the null hypotesis."
   ]
  },
  {
   "cell_type": "markdown",
   "id": "a3515723-4419-4b82-be89-5e8b7ff9a463",
   "metadata": {},
   "source": [
    "Q4. Create a hypothesis that states whether the average weight of male college students is greater than\n",
    "the average weight of female college students."
   ]
  },
  {
   "cell_type": "markdown",
   "id": "02e28853-e1af-4d9c-a659-9cc351713ea2",
   "metadata": {},
   "source": [
    "Null Hypothesis (H0): The average weight of male college students is equal to or less than the average weight of female college students.\n",
    "\n",
    "Alternative Hypothesis (H1): The average weight of male college students is greater than the average weight of female college students.\n",
    "\n",
    "In symbols:\n",
    "\n",
    "H0: μ_male ≤ μ_female\n",
    "Ha: μ_male > μ_female"
   ]
  },
  {
   "cell_type": "markdown",
   "id": "e49ee0c3-3013-46d3-a5d2-350011e4d795",
   "metadata": {},
   "source": [
    "Q5. Write a Python script to conduct a hypothesis test on the difference between two population means,\n",
    "given a sample from each population."
   ]
  },
  {
   "cell_type": "code",
   "execution_count": 2,
   "id": "84c7f060-4b50-4bd8-9a00-dc2de009282e",
   "metadata": {},
   "outputs": [
    {
     "name": "stdout",
     "output_type": "stream",
     "text": [
      "Sample Mean 1: 68.11853104148962\n",
      "Sample Mean 2: 73.5460503565207\n",
      "Sample Standard Deviation 1: 9.000064274024112\n",
      "Sample Standard Deviation 2: 11.17322637393353\n",
      "T-Statistic: -2.072024355950141\n",
      "P-Value: 0.042923471548260005\n",
      "Decision: Reject the null hypothesis\n"
     ]
    }
   ],
   "source": [
    "import numpy as np\n",
    "from scipy import stats\n",
    "np.random.seed(42)\n",
    "sample_size = 30\n",
    "population1 = np.random.normal(loc=70, scale=10, size=sample_size)\n",
    "population2 = np.random.normal(loc=75, scale=12, size=sample_size)\n",
    "sample_mean1 = np.mean(population1)\n",
    "sample_mean2 = np.mean(population2)\n",
    "sample_std_dev1 = np.std(population1, ddof=1)\n",
    "sample_std_dev2 = np.std(population2, ddof=1)\n",
    "alpha = 0.05\n",
    "t_statistic, p_value = stats.ttest_ind(population1, population2, equal_var=False)\n",
    "if p_value < alpha:\n",
    "    decision = \"Reject the null hypothesis\"\n",
    "else:\n",
    "    decision = \"Fail to reject the null hypothesis\"\n",
    "print(\"Sample Mean 1:\", sample_mean1)\n",
    "print(\"Sample Mean 2:\", sample_mean2)\n",
    "print(\"Sample Standard Deviation 1:\", sample_std_dev1)\n",
    "print(\"Sample Standard Deviation 2:\", sample_std_dev2)\n",
    "print(\"T-Statistic:\", t_statistic)\n",
    "print(\"P-Value:\", p_value)\n",
    "print(\"Decision:\", decision)\n"
   ]
  },
  {
   "cell_type": "markdown",
   "id": "0829cee4-2950-427f-8f5e-a52c1d4b87a4",
   "metadata": {},
   "source": [
    "Q6: What is a null and alternative hypothesis? Give some examples."
   ]
  },
  {
   "cell_type": "markdown",
   "id": "fdbac130-2913-4e52-92db-5f7846dca439",
   "metadata": {},
   "source": [
    "null hypothesis h0=coin is fair\n",
    "alternative h1=coin is not fair\n"
   ]
  },
  {
   "cell_type": "code",
   "execution_count": null,
   "id": "29d381d7-b4dc-45c5-94e2-483e832b42da",
   "metadata": {},
   "outputs": [],
   "source": []
  }
 ],
 "metadata": {
  "kernelspec": {
   "display_name": "Python 3 (ipykernel)",
   "language": "python",
   "name": "python3"
  },
  "language_info": {
   "codemirror_mode": {
    "name": "ipython",
    "version": 3
   },
   "file_extension": ".py",
   "mimetype": "text/x-python",
   "name": "python",
   "nbconvert_exporter": "python",
   "pygments_lexer": "ipython3",
   "version": "3.10.8"
  }
 },
 "nbformat": 4,
 "nbformat_minor": 5
}
