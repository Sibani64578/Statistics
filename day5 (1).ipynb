{
 "cells": [
  {
   "cell_type": "markdown",
   "id": "a13bc600-6640-45b2-9df4-231a62967808",
   "metadata": {},
   "source": [
    "Q1. Calculate the 95% confidence interval for a sample of data with a mean of 50 and a standard deviation\n",
    "of 5 using Python. Interpret the results."
   ]
  },
  {
   "cell_type": "code",
   "execution_count": null,
   "id": "40af50ae-52b2-462c-88af-7dcc804cd7dd",
   "metadata": {},
   "outputs": [],
   "source": [
    "import scipy.stats as stats\n",
    "\n",
    "sample_mean = 50  \n",
    "sample_std = 5    \n",
    "confidence_level = 0.95  \n",
    "\n",
    "# Calculate the margin of error\n",
    "margin_of_error = stats.norm.ppf((1 + confidence_level) / 2) * (sample_std / (len(sample) ** 0.5))\n",
    "\n",
    "# Calculate the confidence interval\n",
    "confidence_interval = (sample_mean - margin_of_error, sample_mean + margin_of_error)\n",
    "\n",
    "print(\"Confidence Interval:\", confidence_interval)\n"
   ]
  },
  {
   "cell_type": "markdown",
   "id": "1924d71c-0f92-405d-9a3d-ecbcb61e996d",
   "metadata": {},
   "source": [
    "Q2. Conduct a chi-square goodness of fit test to determine if the distribution of colors of M&Ms in a bag\n",
    "matches the expected distribution of 20% blue, 20% orange, 20% green, 10% yellow, 10% red, and 20%\n",
    "brown. Use Python to perform the test with a significance level of 0.05."
   ]
  },
  {
   "cell_type": "code",
   "execution_count": 9,
   "id": "4d292ee3-279f-45ed-992c-4d4f6f44a0a4",
   "metadata": {},
   "outputs": [
    {
     "ename": "NameError",
     "evalue": "name 'observed_blue_count' is not defined",
     "output_type": "error",
     "traceback": [
      "\u001b[0;31m---------------------------------------------------------------------------\u001b[0m",
      "\u001b[0;31mNameError\u001b[0m                                 Traceback (most recent call last)",
      "Cell \u001b[0;32mIn[11], line 3\u001b[0m\n\u001b[1;32m      1\u001b[0m \u001b[38;5;28;01mimport\u001b[39;00m \u001b[38;5;21;01mscipy\u001b[39;00m\u001b[38;5;21;01m.\u001b[39;00m\u001b[38;5;21;01mstats\u001b[39;00m \u001b[38;5;28;01mas\u001b[39;00m \u001b[38;5;21;01mstats\u001b[39;00m\n\u001b[1;32m      2\u001b[0m \u001b[38;5;28;01mimport\u001b[39;00m \u001b[38;5;21;01mnumpy\u001b[39;00m \u001b[38;5;28;01mas\u001b[39;00m \u001b[38;5;21;01mnp\u001b[39;00m\n\u001b[0;32m----> 3\u001b[0m observed_freq \u001b[38;5;241m=\u001b[39m [\u001b[43mobserved_blue_count\u001b[49m, observed_orange_count, observed_green_count, \n\u001b[1;32m      4\u001b[0m                  observed_yellow_count, observed_red_count, observed_brown_count]\n\u001b[1;32m      5\u001b[0m expected_freq\u001b[38;5;241m=\u001b[39m[\u001b[38;5;241m0.20\u001b[39m,\u001b[38;5;241m0.20\u001b[39m,\u001b[38;5;241m0.20\u001b[39m,\u001b[38;5;241m0.10\u001b[39m,\u001b[38;5;241m0.10\u001b[39m,\u001b[38;5;241m0.20\u001b[39m]\n\u001b[1;32m      6\u001b[0m chi2\u001b[38;5;241m.\u001b[39mstat,p_value\u001b[38;5;241m=\u001b[39mstats\u001b[38;5;241m.\u001b[39mchisquare(observed_freq,expected_freq)\n",
      "\u001b[0;31mNameError\u001b[0m: name 'observed_blue_count' is not defined"
     ]
    }
   ],
   "source": [
    "import scipy.stats as stats\n",
    "import numpy as np\n",
    "observed_freq = [observed_blue_count, observed_orange_count, observed_green_count, \n",
    "                 observed_yellow_count, observed_red_count, observed_brown_count]\n",
    "expected_freq=[0.20,0.20,0.20,0.10,0.10,0.20]\n",
    "chi2.stat,p_value=stats.chisquare(observed_freq,expected_freq)\n",
    "alpha=0.05\n",
    "if chi2.stat,p_value<alpha:\n",
    "    print(\"rwject the null hypoteasi\")\n",
    "else:\n",
    "    print(\"not \")"
   ]
  },
  {
   "cell_type": "code",
   "execution_count": null,
   "id": "077baa5b-abbc-4b19-970e-fa35d501695c",
   "metadata": {},
   "outputs": [],
   "source": [
    "User\n",
    "Q3. Use Python to calculate the chi-square statistic and p-value for a contingency table with the following\n",
    "data:Group A\n",
    "\n",
    "Outcome 1 20 15\n",
    "Outcome 2 10 25\n",
    "Outcome 3 15 20\n",
    "\n"
   ]
  },
  {
   "cell_type": "code",
   "execution_count": 12,
   "id": "e009bb6b-8a95-435f-9a61-d01bdd1e2f1f",
   "metadata": {},
   "outputs": [
    {
     "name": "stdout",
     "output_type": "stream",
     "text": [
      "Fail to reject the null hypothesis. The variables are independent.\n",
      "Chi-square statistic: 5.833333333333334\n",
      "p-value: 0.05411376622282158\n"
     ]
    }
   ],
   "source": [
    "import numpy as np\n",
    "import scipy.stats as stats\n",
    "observed = np.array([[20, 15],\n",
    "                     [10, 25],\n",
    "                     [15, 20]])\n",
    "chi2_stat, p_value, dof, expected = stats.chi2_contingency(observed)\n",
    "alpha = 0.05\n",
    "if p_value < alpha:\n",
    "    print(\"Reject the null hypothesis. The variables are dependent.\")\n",
    "else:\n",
    "    print(\"Fail to reject the null hypothesis. The variables are independent.\")\n",
    "\n",
    "print(\"Chi-square statistic:\", chi2_stat)\n",
    "print(\"p-value:\", p_value)\n"
   ]
  },
  {
   "cell_type": "markdown",
   "id": "aff2b9fd-912e-4711-9328-f33393958c9d",
   "metadata": {},
   "source": [
    "Q4. A study of the prevalence of smoking in a population of 500 individuals found that 60 individuals\n",
    "smoked. Use Python to calculate the 95% confidence interval for the true proportion of individuals in the\n",
    "population who smoke."
   ]
  },
  {
   "cell_type": "code",
   "execution_count": 13,
   "id": "e2ce8e55-1f71-4e8f-9244-e943bd587775",
   "metadata": {},
   "outputs": [
    {
     "name": "stdout",
     "output_type": "stream",
     "text": [
      "95% Confidence Interval: (0.09151638887130707, 0.1484836111286929)\n"
     ]
    }
   ],
   "source": [
    "import scipy.stats as stats\n",
    "import numpy as np\n",
    "\n",
    "sample_size = 500\n",
    "observed_smokers = 60\n",
    "sample_proportion = observed_smokers / sample_size\n",
    "standard_error = np.sqrt((sample_proportion * (1 - sample_proportion)) / sample_size)\n",
    "confidence_level = 0.95\n",
    "z_score = stats.norm.ppf(1 - (1 - confidence_level) / 2)\n",
    "margin_of_error = z_score * standard_error\n",
    "confidence_interval = (sample_proportion - margin_of_error, sample_proportion + margin_of_error)\n",
    "print(\"95% Confidence Interval:\", confidence_interval)\n"
   ]
  },
  {
   "cell_type": "markdown",
   "id": "2a7b7651-ae9b-4350-ad61-35270880b632",
   "metadata": {},
   "source": [
    "Q5. Calculate the 90% confidence interval for a sample of data with a mean of 75 and a standard deviation\n",
    "of 12 using Python. Interpret the results."
   ]
  },
  {
   "cell_type": "code",
   "execution_count": 15,
   "id": "31422841-6327-4a3e-9129-6ad64acadbb8",
   "metadata": {},
   "outputs": [
    {
     "name": "stdout",
     "output_type": "stream",
     "text": [
      "90% Confidence Interval: (61.04295415587992, 88.95704584412009)\n"
     ]
    }
   ],
   "source": [
    "import scipy.stats as stats\n",
    "\n",
    "sample_mean = 75 \n",
    "sample_std = 12   \n",
    "confidence_level = 0.90  \n",
    "\n",
    "sample_size =  2\n",
    "standard_error = sample_std / (sample_size ** 0.5)\n",
    "margin_of_error = stats.norm.ppf((1 + confidence_level) / 2) * standard_error\n",
    "confidence_interval = (sample_mean - margin_of_error, sample_mean + margin_of_error)\n",
    "\n",
    "print(\"90% Confidence Interval:\", confidence_interval)\n"
   ]
  },
  {
   "cell_type": "markdown",
   "id": "0e0b55e7-1880-4333-95df-c4bebda2ae9a",
   "metadata": {},
   "source": [
    "Q6. Use Python to plot the chi-square distribution with 10 degrees of freedom. Label the axes and shade the\n",
    "area corresponding to a chi-square statistic of 15."
   ]
  },
  {
   "cell_type": "code",
   "execution_count": 17,
   "id": "c2fffa8c-38f8-4736-996f-4dd6ccbbac34",
   "metadata": {},
   "outputs": [
    {
     "data": {
      "image/png": "[encoded data removed]",
      "text/plain": [
       "<Figure size 1000x600 with 1 Axes>"
      ]
     },
     "metadata": {},
     "output_type": "display_data"
    }
   ],
   "source": [
    "import numpy as np\n",
    "import matplotlib.pyplot as plt\n",
    "import scipy.stats as stats\n",
    "df = 10\n",
    "x = np.linspace(0, 30, 500)\n",
    "chi2_pdf = stats.chi2.pdf(x, df)\n",
    "plt.figure(figsize=(10, 6))\n",
    "plt.plot(x, chi2_pdf, label=f\"Chi-square Distribution (df = {df})\")\n",
    "plt.fill_between(x, chi2_pdf, where=(x >= 0) & (x <= 15), color='gray', alpha=0.5, label=\"Area for X <= 15\")\n",
    "plt.xlabel(\"Chi-square Value\")\n",
    "plt.ylabel(\"Probability Density\")\n",
    "plt.title(\"Chi-square Distribution with Shaded Area\")\n",
    "plt.legend()\n",
    "plt.grid(True)\n",
    "plt.show()\n"
   ]
  },
  {
   "cell_type": "markdown",
   "id": "c1173312-2317-4388-b219-067bcabf10c0",
   "metadata": {},
   "source": [
    "Q7. A random sample of 1000 people was asked if they preferred Coke or Pepsi. Of the sample, 520\n",
    "preferred Coke. Calculate"
   ]
  },
  {
   "cell_type": "markdown",
   "id": "860c6d12-12aa-487b-a8a1-37099e5779ed",
   "metadata": {},
   "source": []
  },
  {
   "cell_type": "code",
   "execution_count": 18,
   "id": "e8be6e04-1587-4634-bbff-a9a3e33e6489",
   "metadata": {},
   "outputs": [
    {
     "name": "stdout",
     "output_type": "stream",
     "text": [
      "Proportion of people who preferred Coke: 0.52\n"
     ]
    }
   ],
   "source": [
    "sample_size = 1000\n",
    "coke_preference = 520\n",
    "proportion_coke = coke_preference / sample_size\n",
    "print(\"Proportion of people who preferred Coke:\", proportion_coke)\n"
   ]
  },
  {
   "cell_type": "markdown",
   "id": "f2846e48-4bb7-4982-88d5-d46b18dde4d9",
   "metadata": {},
   "source": [
    "Q8. A researcher hypothesizes that a coin is biased towards tails. They flip the coin 100 times and observe\n",
    "45 tails. Conduct a chi-square goodness of fit test to determine if the observed frequencies match the\n",
    "expected frequencies of a fair coin. Use a significance level of 0.05."
   ]
  },
  {
   "cell_type": "code",
   "execution_count": 19,
   "id": "d3fd3712-5e00-43ed-85ef-e21a4e7dc2ec",
   "metadata": {},
   "outputs": [
    {
     "name": "stdout",
     "output_type": "stream",
     "text": [
      "Fail to reject the null hypothesis. The coin is fair.\n",
      "Chi-square statistic: 1.0\n",
      "p-value: 0.31731050786291115\n"
     ]
    }
   ],
   "source": [
    "import scipy.stats as stats\n",
    "\n",
    "observed_tails = 45  \n",
    "total_flips = 100    \n",
    "observed_heads = total_flips - observed_tails\n",
    "\n",
    "# Expected frequencies for a fair coin (assuming p = 0.5 for heads and tails)\n",
    "expected_heads = 0.5 * total_flips\n",
    "expected_tails = 0.5 * total_flips\n",
    "\n",
    "observed_freq = [observed_heads, observed_tails]\n",
    "expected_freq = [expected_heads, expected_tails]\n",
    "\n",
    "# Perform the chi-square goodness of fit test\n",
    "chi2_stat, p_value = stats.chisquare(observed_freq, f_exp=expected_freq)\n",
    "\n",
    "# Significance level\n",
    "alpha = 0.05\n",
    "\n",
    "# Compare the p-value to the significance level\n",
    "if p_value < alpha:\n",
    "    print(\"Reject the null hypothesis. The coin is biased towards tails.\")\n",
    "else:\n",
    "    print(\"Fail to reject the null hypothesis. The coin is fair.\")\n",
    "\n",
    "print(\"Chi-square statistic:\", chi2_stat)\n",
    "print(\"p-value:\", p_value)\n"
   ]
  },
  {
   "cell_type": "code",
   "execution_count": null,
   "id": "c83bdd92-513e-4af4-94e4-df02a7471459",
   "metadata": {},
   "outputs": [],
   "source": []
  }
 ],
 "metadata": {
  "kernelspec": {
   "display_name": "Python 3 (ipykernel)",
   "language": "python",
   "name": "python3"
  },
  "language_info": {
   "codemirror_mode": {
    "name": "ipython",
    "version": 3
   },
   "file_extension": ".py",
   "mimetype": "text/x-python",
   "name": "python",
   "nbconvert_exporter": "python",
   "pygments_lexer": "ipython3",
   "version": "3.10.8"
  }
 },
 "nbformat": 4,
 "nbformat_minor": 5
}
