{
 "cells": [
  {
   "cell_type": "markdown",
   "id": "760b4084-282b-46ab-92df-019c0f8ca4c3",
   "metadata": {},
   "source": [
    "Q1. Write a Python function that takes in two arrays of data and calculates the F-value for a variance ratio\n",
    "test. The function should return the F-value and the corresponding p-value for the test."
   ]
  },
  {
   "cell_type": "code",
   "execution_count": 1,
   "id": "1a1eaea7-6113-4167-9d1b-32bf0cb9ac78",
   "metadata": {},
   "outputs": [
    {
     "name": "stdout",
     "output_type": "stream",
     "text": [
      "F-value: 2.6153846153846154\n",
      "p-value: 0.3743871781782455\n"
     ]
    }
   ],
   "source": [
    "import numpy as np\n",
    "import scipy.stats as stats\n",
    "\n",
    "def variance_ratio_test(data1, data2):\n",
    "    var1 = np.var(data1, ddof=1) \n",
    "    var2 = np.var(data2, ddof=1)\n",
    "    f_value = var1 / var2 if var1 >= var2 else var2 / var1\n",
    "    df1 = len(data1) - 1\n",
    "    df2 = len(data2) - 1\n",
    "    \n",
    "    p_value = 2 * min(stats.f.cdf(f_value, df1, df2), 1 - stats.f.cdf(f_value, df1, df2))\n",
    "    \n",
    "    return f_value, p_value\n",
    "\n",
    "# Example usage\n",
    "data_array1 = [10, 15, 12, 18, 20]\n",
    "data_array2 = [8, 11, 14, 9, 13]\n",
    "\n",
    "f_value, p_value = variance_ratio_test(data_array1, data_array2)\n",
    "print(\"F-value:\", f_value)\n",
    "print(\"p-value:\", p_value)\n"
   ]
  },
  {
   "cell_type": "markdown",
   "id": "b915cc12-952b-48ee-8eca-b445d4e73b5b",
   "metadata": {},
   "source": [
    "Q2. Given a significance level of 0.05 and the degrees of freedom for the numerator and denominator of an\n",
    "F-distribution, write a Python function that returns the critical F-value for a two-tailed test."
   ]
  },
  {
   "cell_type": "code",
   "execution_count": 2,
   "id": "f513ad45-1ea0-4f6e-b1d6-db922f9644a0",
   "metadata": {},
   "outputs": [
    {
     "name": "stdout",
     "output_type": "stream",
     "text": [
      "Critical F-value: 4.825621493405406\n"
     ]
    }
   ],
   "source": [
    "import scipy.stats as stats\n",
    "\n",
    "def critical_f_value(significance_level, df_numerator, df_denominator):\n",
    "    alpha = significance_level / 2  \n",
    "    critical_value = stats.f.ppf(1 - alpha, df_numerator, df_denominator)\n",
    "    return critical_value\n",
    "\n",
    "# Example usage\n",
    "significance_level = 0.05\n",
    "df_numerator = 3\n",
    "df_denominator = 10\n",
    "\n",
    "critical_f = critical_f_value(significance_level, df_numerator, df_denominator)\n",
    "print(\"Critical F-value:\", critical_f)\n"
   ]
  },
  {
   "cell_type": "markdown",
   "id": "e62d33ff-656f-4b79-ac7e-a433a5c4abaa",
   "metadata": {},
   "source": [
    "Q3. Write a Python program that generates random samples from two normal distributions with known\n",
    "\n",
    "variances and uses an F-test to determine if the variances are equal. The program should output the F-\n",
    "value, degrees of freedom, and p-value for the test."
   ]
  },
  {
   "cell_type": "code",
   "execution_count": 3,
   "id": "fab12f02-3109-4a3a-9b27-0d7f030f49f1",
   "metadata": {},
   "outputs": [
    {
     "name": "stdout",
     "output_type": "stream",
     "text": [
      "F-value: 2.0918012502818457\n",
      "Degrees of Freedom (numerator): 29\n",
      "Degrees of Freedom (denominator): 24\n",
      "p-value: 0.02962034153380999\n"
     ]
    }
   ],
   "source": [
    "import numpy as np\n",
    "import scipy.stats as stats\n",
    "\n",
    "def perform_f_test(sample1, sample2):\n",
    "    var1 = np.var(sample1, ddof=1)  # Sample variance with ddof=1 for sample variance\n",
    "    var2 = np.var(sample2, ddof=1)\n",
    "    \n",
    "    df1 = len(sample1) - 1\n",
    "    df2 = len(sample2) - 1\n",
    "    \n",
    "    if var1 >= var2:\n",
    "        f_value = var1 / var2\n",
    "        p_value = 1 - stats.f.cdf(f_value, df1, df2)\n",
    "    else:\n",
    "        f_value = var2 / var1\n",
    "        p_value = 1 - stats.f.cdf(f_value, df2, df1)\n",
    "    \n",
    "    return f_value, df1, df2, p_value\n",
    "\n",
    "# Generate random samples with known variances\n",
    "np.random.seed(123)  # For reproducibility\n",
    "sample1 = np.random.normal(loc=0, scale=5, size=30)  # Mean=0, variance=25\n",
    "sample2 = np.random.normal(loc=0, scale=7, size=25)  # Mean=0, variance=49\n",
    "\n",
    "# Perform F-test\n",
    "f_value, df1, df2, p_value = perform_f_test(sample1, sample2)\n",
    "\n",
    "print(\"F-value:\", f_value)\n",
    "print(\"Degrees of Freedom (numerator):\", df1)\n",
    "print(\"Degrees of Freedom (denominator):\", df2)\n",
    "print(\"p-value:\", p_value)\n"
   ]
  },
  {
   "cell_type": "markdown",
   "id": "788da2fc-104e-4ffe-8a59-48443af1a057",
   "metadata": {},
   "source": [
    "Q4.The variances of two populations are known to be 10 and 15. A sample of 12 observations is taken from\n",
    "each population. Conduct an F-test at the 5% significance level to determine if the variances are\n",
    "significantly different."
   ]
  },
  {
   "cell_type": "code",
   "execution_count": 4,
   "id": "1522201b-2f5b-4861-962e-8b146b0653ce",
   "metadata": {},
   "outputs": [
    {
     "name": "stdout",
     "output_type": "stream",
     "text": [
      "F-value: 0.6666666666666666\n",
      "Degrees of Freedom (numerator): 11\n",
      "Degrees of Freedom (denominator): 11\n",
      "p-value: 0.7438051006321003\n",
      "Fail to reject the null hypothesis. The variances are not significantly different.\n"
     ]
    }
   ],
   "source": [
    "import scipy.stats as stats\n",
    "\n",
    "population_variance1 = 10\n",
    "population_variance2 = 15\n",
    "sample_size = 12\n",
    "significance_level = 0.05\n",
    "\n",
    "# Degrees of freedom for the two populations\n",
    "df1 = sample_size - 1\n",
    "df2 = sample_size - 1\n",
    "\n",
    "# Calculate the F-value\n",
    "f_value = population_variance1 / population_variance2\n",
    "\n",
    "# Calculate the p-value for the F-test\n",
    "p_value = 1 - stats.f.cdf(f_value, df1, df2)\n",
    "\n",
    "# Compare the p-value to the significance level\n",
    "if p_value < significance_level:\n",
    "    result = \"Reject the null hypothesis. The variances are significantly different.\"\n",
    "else:\n",
    "    result = \"Fail to reject the null hypothesis. The variances are not significantly different.\"\n",
    "\n",
    "print(\"F-value:\", f_value)\n",
    "print(\"Degrees of Freedom (numerator):\", df1)\n",
    "print(\"Degrees of Freedom (denominator):\", df2)\n",
    "print(\"p-value:\", p_value)\n",
    "print(result)\n"
   ]
  },
  {
   "cell_type": "markdown",
   "id": "c365902c-8cd6-49bd-94ab-c8461e79e26c",
   "metadata": {},
   "source": [
    "Q5. A manufacturer claims that the variance of the diameter of a certain product is 0.005. A sample of 25\n",
    "products is taken, and the sample variance is found to be 0.006. Conduct an F-test at the 1% significance\n",
    "level to determine if the claim is justified."
   ]
  },
  {
   "cell_type": "code",
   "execution_count": 5,
   "id": "67d6d3ac-7529-4e7d-9414-81d9af32fbcf",
   "metadata": {},
   "outputs": [
    {
     "name": "stdout",
     "output_type": "stream",
     "text": [
      "F-value: 1.2\n",
      "Degrees of Freedom (numerator): 24\n",
      "Degrees of Freedom (denominator): 24\n",
      "p-value: 0.3293654682817244\n",
      "Fail to reject the null hypothesis. The claim is justified.\n"
     ]
    }
   ],
   "source": [
    "import scipy.stats as stats\n",
    "\n",
    "claimed_variance = 0.005\n",
    "sample_size = 25\n",
    "sample_variance = 0.006\n",
    "significance_level = 0.01\n",
    "\n",
    "# Degrees of freedom for the two populations\n",
    "df1 = sample_size - 1\n",
    "df2 = sample_size - 1\n",
    "\n",
    "# Calculate the F-value\n",
    "f_value = sample_variance / claimed_variance\n",
    "\n",
    "# Calculate the p-value for the F-test\n",
    "p_value = 1 - stats.f.cdf(f_value, df1, df2)\n",
    "\n",
    "# Compare the p-value to the significance level\n",
    "if p_value < significance_level:\n",
    "    result = \"Reject the null hypothesis. The claim is not justified.\"\n",
    "else:\n",
    "    result = \"Fail to reject the null hypothesis. The claim is justified.\"\n",
    "\n",
    "print(\"F-value:\", f_value)\n",
    "print(\"Degrees of Freedom (numerator):\", df1)\n",
    "print(\"Degrees of Freedom (denominator):\", df2)\n",
    "print(\"p-value:\", p_value)\n",
    "print(result)\n"
   ]
  },
  {
   "cell_type": "markdown",
   "id": "e44e7eb1-dbeb-4f6f-b070-37b21b2c60fd",
   "metadata": {},
   "source": [
    "Q6. Write a Python function that takes in the degrees of freedom for the numerator and denominator of an\n",
    "F-distribution and calculates the mean and variance of the distribution. The function should return the\n",
    "mean and variance as a tuple."
   ]
  },
  {
   "cell_type": "code",
   "execution_count": 6,
   "id": "fb854fc5-9851-4aa4-940f-1c6f66a138bd",
   "metadata": {},
   "outputs": [
    {
     "name": "stdout",
     "output_type": "stream",
     "text": [
      "Mean of the F-distribution: 1.25\n",
      "Variance of the F-distribution: 1.9097222222222223\n"
     ]
    }
   ],
   "source": [
    "def f_distribution_mean_variance(df_numerator, df_denominator):\n",
    "    if df_numerator <= 0 or df_denominator <= 0:\n",
    "        raise ValueError(\"Degrees of freedom must be greater than 0.\")\n",
    "    \n",
    "    if df_denominator <= 2:\n",
    "        raise ValueError(\"Degrees of freedom for the denominator must be greater than 2.\")\n",
    "    \n",
    "    mean = df_denominator / (df_denominator - 2)\n",
    "    variance = (2 * (df_denominator ** 2) * (df_numerator + df_denominator - 2)) / (df_numerator * (df_denominator - 2) ** 2 * (df_denominator - 4))\n",
    "    \n",
    "    return mean, variance\n",
    "\n",
    "# Example usage\n",
    "df_numerator = 3\n",
    "df_denominator = 10\n",
    "\n",
    "mean, variance = f_distribution_mean_variance(df_numerator, df_denominator)\n",
    "print(\"Mean of the F-distribution:\", mean)\n",
    "print(\"Variance of the F-distribution:\", variance)\n"
   ]
  },
  {
   "cell_type": "markdown",
   "id": "5b4dc348-0daa-4f0c-84f0-693dbb1ad3be",
   "metadata": {},
   "source": [
    "Q7. A random sample of 10 measurements is taken from a normal population with unknown variance. The\n",
    "sample variance is found to be 25. Another random sample of 15 measurements is taken from another\n",
    "normal population with unknown variance, and the sample variance is found to be 20. Conduct an F-test\n",
    "at the 10% significance level to determine if the variances are significantly different."
   ]
  },
  {
   "cell_type": "code",
   "execution_count": 7,
   "id": "b717240d-1699-4452-8f76-b3af913c7099",
   "metadata": {},
   "outputs": [
    {
     "name": "stdout",
     "output_type": "stream",
     "text": [
      "F-value: 1.25\n",
      "Degrees of Freedom (numerator): 9\n",
      "Degrees of Freedom (denominator): 14\n",
      "p-value: 0.3416097191292977\n",
      "Fail to reject the null hypothesis. The variances are not significantly different.\n"
     ]
    }
   ],
   "source": [
    "import scipy.stats as stats\n",
    "\n",
    "sample_variance1 = 25\n",
    "sample_size1 = 10\n",
    "\n",
    "sample_variance2 = 20\n",
    "sample_size2 = 15\n",
    "\n",
    "significance_level = 0.10\n",
    "\n",
    "# Degrees of freedom for the two populations\n",
    "df1 = sample_size1 - 1\n",
    "df2 = sample_size2 - 1\n",
    "\n",
    "# Calculate the F-value\n",
    "f_value = sample_variance1 / sample_variance2\n",
    "\n",
    "# Calculate the p-value for the F-test\n",
    "p_value = 1 - stats.f.cdf(f_value, df1, df2)\n",
    "\n",
    "# Compare the p-value to the significance level\n",
    "if p_value < significance_level:\n",
    "    result = \"Reject the null hypothesis. The variances are significantly different.\"\n",
    "else:\n",
    "    result = \"Fail to reject the null hypothesis. The variances are not significantly different.\"\n",
    "\n",
    "print(\"F-value:\", f_value)\n",
    "print(\"Degrees of Freedom (numerator):\", df1)\n",
    "print(\"Degrees of Freedom (denominator):\", df2)\n",
    "print(\"p-value:\", p_value)\n",
    "print(result)\n"
   ]
  },
  {
   "cell_type": "markdown",
   "id": "5ffa5dfe-bc8d-48d2-b8d4-f3e4aeb1bf0a",
   "metadata": {},
   "source": [
    "Q8. The following data represent the waiting times in minutes at two different restaurants on a Saturday\n",
    "night: Restaurant A: 24, 25, 28, 23, 22, 20, 27; Restaurant B: 31, 33, 35, 30, 32, 36. Conduct an F-test at the 5%\n",
    "significance level to determine if the variances are significantly different."
   ]
  },
  {
   "cell_type": "code",
   "execution_count": 8,
   "id": "5235ec4d-1b2f-4eca-99e7-54e2f4d55ddc",
   "metadata": {},
   "outputs": [
    {
     "name": "stdout",
     "output_type": "stream",
     "text": [
      "F-value: 1.4551907719609583\n",
      "Degrees of Freedom (numerator): 6\n",
      "Degrees of Freedom (denominator): 5\n",
      "p-value: 0.3487407873968742\n",
      "Fail to reject the null hypothesis. The variances are not significantly different.\n"
     ]
    }
   ],
   "source": [
    "import scipy.stats as stats\n",
    "\n",
    "data_restaurant_a = [24, 25, 28, 23, 22, 20, 27]\n",
    "data_restaurant_b = [31, 33, 35, 30, 32, 36]\n",
    "\n",
    "significance_level = 0.05\n",
    "\n",
    "# Calculate the variances of the two datasets\n",
    "variance_a = sum((x - sum(data_restaurant_a) / len(data_restaurant_a)) ** 2 for x in data_restaurant_a) / (len(data_restaurant_a) - 1)\n",
    "variance_b = sum((x - sum(data_restaurant_b) / len(data_restaurant_b)) ** 2 for x in data_restaurant_b) / (len(data_restaurant_b) - 1)\n",
    "\n",
    "# Degrees of freedom for the two populations\n",
    "df1 = len(data_restaurant_a) - 1\n",
    "df2 = len(data_restaurant_b) - 1\n",
    "\n",
    "# Calculate the F-value\n",
    "f_value = variance_a / variance_b\n",
    "\n",
    "# Calculate the p-value for the F-test\n",
    "p_value = 1 - stats.f.cdf(f_value, df1, df2)\n",
    "\n",
    "# Compare the p-value to the significance level\n",
    "if p_value < significance_level:\n",
    "    result = \"Reject the null hypothesis. The variances are significantly different.\"\n",
    "else:\n",
    "    result = \"Fail to reject the null hypothesis. The variances are not significantly different.\"\n",
    "\n",
    "print(\"F-value:\", f_value)\n",
    "print(\"Degrees of Freedom (numerator):\", df1)\n",
    "print(\"Degrees of Freedom (denominator):\", df2)\n",
    "print(\"p-value:\", p_value)\n",
    "print(result)\n"
   ]
  },
  {
   "cell_type": "markdown",
   "id": "233c4f5f-2df8-4d34-a274-cdc428ad4685",
   "metadata": {},
   "source": [
    "Q9. The following data represent the test scores of two groups of students: Group A: 80, 85, 90, 92, 87, 83;\n",
    "Group B: 75, 78, 82, 79, 81, 84. Conduct an F-test at the 1% significance level to determine if the variances\n",
    "are significantly different."
   ]
  },
  {
   "cell_type": "code",
   "execution_count": 9,
   "id": "14f5c99a-6228-48fa-8270-a6318a915965",
   "metadata": {},
   "outputs": [
    {
     "name": "stdout",
     "output_type": "stream",
     "text": [
      "F-value: 1.9442622950819677\n",
      "Degrees of Freedom (numerator): 5\n",
      "Degrees of Freedom (denominator): 5\n",
      "p-value: 0.2415521774535344\n",
      "Fail to reject the null hypothesis. The variances are not significantly different.\n"
     ]
    }
   ],
   "source": [
    "import scipy.stats as stats\n",
    "\n",
    "data_group_a = [80, 85, 90, 92, 87, 83]\n",
    "data_group_b = [75, 78, 82, 79, 81, 84]\n",
    "\n",
    "significance_level = 0.01\n",
    "\n",
    "# Calculate the variances of the two datasets\n",
    "variance_group_a = sum((x - sum(data_group_a) / len(data_group_a)) ** 2 for x in data_group_a) / (len(data_group_a) - 1)\n",
    "variance_group_b = sum((x - sum(data_group_b) / len(data_group_b)) ** 2 for x in data_group_b) / (len(data_group_b) - 1)\n",
    "\n",
    "# Degrees of freedom for the two populations\n",
    "df1 = len(data_group_a) - 1\n",
    "df2 = len(data_group_b) - 1\n",
    "\n",
    "# Calculate the F-value\n",
    "f_value = variance_group_a / variance_group_b\n",
    "\n",
    "# Calculate the p-value for the F-test\n",
    "p_value = 1 - stats.f.cdf(f_value, df1, df2)\n",
    "\n",
    "# Compare the p-value to the significance level\n",
    "if p_value < significance_level:\n",
    "    result = \"Reject the null hypothesis. The variances are significantly different.\"\n",
    "else:\n",
    "    result = \"Fail to reject the null hypothesis. The variances are not significantly different.\"\n",
    "\n",
    "print(\"F-value:\", f_value)\n",
    "print(\"Degrees of Freedom (numerator):\", df1)\n",
    "print(\"Degrees of Freedom (denominator):\", df2)\n",
    "print(\"p-value:\", p_value)\n",
    "print(result)\n"
   ]
  },
  {
   "cell_type": "code",
   "execution_count": null,
   "id": "3c446d4c-892f-4a9a-b75d-a66c7ac004ad",
   "metadata": {},
   "outputs": [],
   "source": []
  }
 ],
 "metadata": {
  "kernelspec": {
   "display_name": "Python 3 (ipykernel)",
   "language": "python",
   "name": "python3"
  },
  "language_info": {
   "codemirror_mode": {
    "name": "ipython",
    "version": 3
   },
   "file_extension": ".py",
   "mimetype": "text/x-python",
   "name": "python",
   "nbconvert_exporter": "python",
   "pygments_lexer": "ipython3",
   "version": "3.10.8"
  }
 },
 "nbformat": 4,
 "nbformat_minor": 5
}
