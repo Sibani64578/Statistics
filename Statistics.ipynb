{
 "cells": [
  {
   "cell_type": "markdown",
   "metadata": {},
   "source": [
    "Q1. What is Statistics?"
   ]
  },
  {
   "cell_type": "markdown",
   "metadata": {},
   "source": [
    "Statistics is the science of collecting,organizin,analying data"
   ]
  },
  {
   "cell_type": "markdown",
   "metadata": {},
   "source": [
    "Q2. Define the different types of statistics and give an example of when each type might be used."
   ]
  },
  {
   "cell_type": "markdown",
   "metadata": {},
   "source": [
    "There are two types of statistics \n",
    "1.Descriptive :-It Consists of organizing and sumarizing data.\n",
    "    i.measure of central tendency[mean,median,mode]\n",
    "    ii.measure of dispersion[variance,std]\n",
    "    iii.Differant type of Distribution of data like histogram,pdf,pmf\n",
    "2.Infesonial Statistics:-It consists of using data you have measured to from Conclusion.\n",
    "    i.Z-test\n",
    "    ii.T-test\n",
    "    iii.CMI souraf"
   ]
  },
  {
   "cell_type": "markdown",
   "metadata": {},
   "source": [
    "Q3. What are the different types of data and how do they differ from each other? Provide an example of\n",
    "each type of data."
   ]
  },
  {
   "cell_type": "markdown",
   "metadata": {},
   "source": [
    "Facts or picus of information\n",
    "                                [Data]\n",
    "    \n",
    "            [Quantitative]                 [Qualitative]\n",
    "        \n",
    "    [Discretiv]   [Continuous]     [Nominal]             [odinal]\n",
    "    \n",
    "    Quantitative:-Numarical variable                        Qualitative:-catagoricsl vsrisblre ot dsts\n",
    "                                                          Nominal:-No range like mail or fimal,blood group\n",
    "                        \n",
    "    Discretiv:-Whole number                               Odinsl:-rank good,bettr bad\n",
    "    Continuous:-any number\n",
    "    "
   ]
  },
  {
   "cell_type": "markdown",
   "metadata": {},
   "source": [
    "Q4. Categorise the following datasets with respect to quantitative and qualitative data types:\n",
    "(i) Grading in exam: A+, A, B+, B, C+, C, D, E=====quantitative\n",
    "(ii) Colour of mangoes: yellow, green, orange, red=======quantitative\n",
    "(iii) Height data of a class: [178.9, 179, 179.5, 176, 177.2, 178.3, 175.8,...]======quantitative\n",
    "(iv) Number of mangoes exported by a farm: [500, 600, 478, 672, ...]====quantitative"
   ]
  },
  {
   "cell_type": "markdown",
   "metadata": {},
   "source": [
    "Q5. Explain the concept of levels of measurement and give an example of a variable for each level."
   ]
  },
  {
   "cell_type": "markdown",
   "metadata": {},
   "source": [
    "1.Nominal scale data:-\n",
    "                    i.Qualitative/Catagorical data\n",
    "                    ii.gender,colors\n",
    "                    iii.order dose not matter\n",
    "2.Ordinal scale dataa:-\n",
    "                    i.Ranking is important\n",
    "                    ii.order metter \n",
    "                    iii.Difference cannot be measured\n",
    "3.Intorval scaledata:-\n",
    "                    i.The order matter \n",
    "                    ii.Differeance can be Measured \n",
    "                    iii.Ratio cannot be mesured\n",
    "                    iv.No true \"0\" Sturting point\n",
    "4.Ratio scale data:-\n",
    "                    i.order matter\n",
    "                    ii.differces are measurabel(including ratio)\n",
    "                    iii.contains a \"0\" Staring point"
   ]
  },
  {
   "cell_type": "markdown",
   "metadata": {},
   "source": [
    "Q6. Why is it important to understand the level of measurement when analyzing data? Provide an\n",
    "example to illustrate your answer."
   ]
  },
  {
   "cell_type": "markdown",
   "metadata": {},
   "source": [
    "Understanding the level of measurement is crucial when analyzing data because it determines the appropriate statistical techniques and operations"
   ]
  },
  {
   "cell_type": "markdown",
   "metadata": {},
   "source": [
    "Q7. How nominal data type is different from ordinal data type."
   ]
  },
  {
   "cell_type": "markdown",
   "metadata": {},
   "source": [
    "1.Nominal scale data:-\n",
    "                    i.Qualitative/Catagorical data\n",
    "                    ii.gender,colors\n",
    "                    iii.order dose not matter\n",
    "2.Ordinal scale dataa:-\n",
    "                    i.Ranking is important\n",
    "                    ii.order metter \n",
    "                    iii.Difference cannot be measured\n"
   ]
  },
  {
   "cell_type": "markdown",
   "metadata": {},
   "source": [
    "Q9. Describe the difference between descriptive and inferential statistics. Give an example of each\n",
    "type of statistics and explain how they are used."
   ]
  },
  {
   "cell_type": "markdown",
   "metadata": {},
   "source": [
    "There are two types of statistics \n",
    "1.Descriptive :-It Consists of organizing and sumarizing data.\n",
    "    i.measure of central tendency[mean,median,mode]\n",
    "    ii.measure of dispersion[variance,std]\n",
    "    iii.Differant type of Distribution of data like histogram,pdf,pmf\n",
    "2.Infesonial Statistics:-It consists of using data you have measured to from Conclusion.\n",
    "    i.Z-test\n",
    "    ii.T-test\n",
    "    iii.CMI souraf"
   ]
  }
 ],
 "metadata": {
  "kernelspec": {
   "display_name": "Python 3",
   "language": "python",
   "name": "python3"
  },
  "language_info": {
   "codemirror_mode": {
    "name": "ipython",
    "version": 3
   },
   "file_extension": ".py",
   "mimetype": "text/x-python",
   "name": "python",
   "nbconvert_exporter": "python",
   "pygments_lexer": "ipython3",
   "version": "3.11.3"
  },
  "orig_nbformat": 4
 },
 "nbformat": 4,
 "nbformat_minor": 2
}
