{
 "cells": [
  {
   "cell_type": "markdown",
   "id": "0470a476-b6aa-4ba1-9ecd-11566c9ee7f7",
   "metadata": {},
   "source": [
    "Q1. What are the three measures of central tendency?"
   ]
  },
  {
   "cell_type": "markdown",
   "id": "a57040db-4d31-49a2-802b-bda32a44fe3d",
   "metadata": {},
   "source": [
    "There are Three type of .\n",
    "1.mean\n",
    "2.median\n",
    "3.mode"
   ]
  },
  {
   "cell_type": "markdown",
   "id": "a0208354-4d62-4237-8ecc-5773cb9c0b8b",
   "metadata": {},
   "source": [
    "Q2. What is the difference between the mean, median, and mode? How are they used to measure the\n",
    "central tendency of a dataset?"
   ]
  },
  {
   "cell_type": "code",
   "execution_count": 1,
   "id": "013f18b8-4989-44cc-9684-e660620791fe",
   "metadata": {},
   "outputs": [
    {
     "data": {
      "text/plain": [
       "15.61111111111111"
      ]
     },
     "execution_count": 1,
     "metadata": {},
     "output_type": "execute_result"
    }
   ],
   "source": [
    "#The mean, median, and mode are statistical measures used to describe the central tendency of a dataset\n",
    "#mean\n",
    "age=[12,2,13,1,23,5,5,25,35,35,6,3,55,36,4,3,6,12]\n",
    "import numpy as np\n",
    "np.mean(age)"
   ]
  },
  {
   "cell_type": "code",
   "execution_count": 2,
   "id": "f224417c-d3b2-4f71-9a59-2bc549cfb3af",
   "metadata": {},
   "outputs": [
    {
     "data": {
      "text/plain": [
       "9.0"
      ]
     },
     "execution_count": 2,
     "metadata": {},
     "output_type": "execute_result"
    }
   ],
   "source": [
    "#median\n",
    "np.median(age)"
   ]
  },
  {
   "cell_type": "code",
   "execution_count": 3,
   "id": "2fa2e9b3-734c-4284-8498-d85eed46cb8c",
   "metadata": {},
   "outputs": [
    {
     "name": "stderr",
     "output_type": "stream",
     "text": [
      "/tmp/ipykernel_342/2793654346.py:3: FutureWarning: Unlike other reduction functions (e.g. `skew`, `kurtosis`), the default behavior of `mode` typically preserves the axis it acts along. In SciPy 1.11.0, this behavior will change: the default value of `keepdims` will become False, the `axis` over which the statistic is taken will be eliminated, and the value None will no longer be accepted. Set `keepdims` to True or False to avoid this warning.\n",
      "  stats.mode(age)\n"
     ]
    },
    {
     "data": {
      "text/plain": [
       "ModeResult(mode=array([3]), count=array([2]))"
      ]
     },
     "execution_count": 3,
     "metadata": {},
     "output_type": "execute_result"
    }
   ],
   "source": [
    "#mode\n",
    "from scipy import stats\n",
    "stats.mode(age)"
   ]
  },
  {
   "cell_type": "code",
   "execution_count": 4,
   "id": "548853d9-9a69-4d9d-b0c3-ab663f383037",
   "metadata": {},
   "outputs": [
    {
     "ename": "SyntaxError",
     "evalue": "invalid syntax (1773908979.py, line 1)",
     "output_type": "error",
     "traceback": [
      "\u001b[0;36m  Cell \u001b[0;32mIn[4], line 1\u001b[0;36m\u001b[0m\n\u001b[0;31m    Q3. Measure the three measures of central tendency for the given height data:\u001b[0m\n\u001b[0m                ^\u001b[0m\n\u001b[0;31mSyntaxError\u001b[0m\u001b[0;31m:\u001b[0m invalid syntax\n"
     ]
    }
   ],
   "source": [
    "Q3. Measure the three measures of central tendency for the given height data:\n",
    "[178,177,176,177,178.2,178,175,179,180,175,178.9,176.2,177,172.5,178,176.5]"
   ]
  },
  {
   "cell_type": "code",
   "execution_count": 6,
   "id": "6a22c27d-21ff-4a63-9ec5-7cc4b5a557dd",
   "metadata": {},
   "outputs": [
    {
     "data": {
      "text/plain": [
       "177.01875"
      ]
     },
     "execution_count": 6,
     "metadata": {},
     "output_type": "execute_result"
    }
   ],
   "source": [
    "import numpy as np\n",
    "from scipy import stats\n",
    "s=[178,177,176,177,178.2,178,175,179,180,175,178.9,176.2,177,172.5,178,176.5]\n",
    "np.mean(s)"
   ]
  },
  {
   "cell_type": "code",
   "execution_count": 7,
   "id": "e1462500-5126-4898-8fa8-8d145020a2bd",
   "metadata": {},
   "outputs": [
    {
     "data": {
      "text/plain": [
       "177.0"
      ]
     },
     "execution_count": 7,
     "metadata": {},
     "output_type": "execute_result"
    }
   ],
   "source": [
    "np.median(s)"
   ]
  },
  {
   "cell_type": "code",
   "execution_count": 8,
   "id": "98cb0562-ec90-4a03-9d0e-17276f64f556",
   "metadata": {},
   "outputs": [
    {
     "name": "stderr",
     "output_type": "stream",
     "text": [
      "/tmp/ipykernel_342/3135913741.py:1: FutureWarning: Unlike other reduction functions (e.g. `skew`, `kurtosis`), the default behavior of `mode` typically preserves the axis it acts along. In SciPy 1.11.0, this behavior will change: the default value of `keepdims` will become False, the `axis` over which the statistic is taken will be eliminated, and the value None will no longer be accepted. Set `keepdims` to True or False to avoid this warning.\n",
      "  stats.mode(s)\n"
     ]
    },
    {
     "data": {
      "text/plain": [
       "ModeResult(mode=array([177.]), count=array([3]))"
      ]
     },
     "execution_count": 8,
     "metadata": {},
     "output_type": "execute_result"
    }
   ],
   "source": [
    "stats.mode(s)"
   ]
  },
  {
   "cell_type": "code",
   "execution_count": 9,
   "id": "e3c353f3-f651-4fbb-96a9-1318108d10c8",
   "metadata": {},
   "outputs": [
    {
     "data": {
      "text/plain": [
       "1.7885814036548633"
      ]
     },
     "execution_count": 9,
     "metadata": {},
     "output_type": "execute_result"
    }
   ],
   "source": [
    "np.std(s)"
   ]
  },
  {
   "cell_type": "code",
   "execution_count": null,
   "id": "af04637e-5e71-40da-8cfe-5a118088089a",
   "metadata": {},
   "outputs": [],
   "source": [
    "Q4. Find the standard deviation for the given data:\n",
    "[178,177,176,177,178.2,178,175,179,180,175,178.9,176.2,177,172.5,178,176.5]"
   ]
  },
  {
   "cell_type": "code",
   "execution_count": 10,
   "id": "a51e3b72-f5c8-45de-bfed-f93a6e77bfa5",
   "metadata": {},
   "outputs": [
    {
     "data": {
      "text/plain": [
       "1.7885814036548633"
      ]
     },
     "execution_count": 10,
     "metadata": {},
     "output_type": "execute_result"
    }
   ],
   "source": [
    "g=[178,177,176,177,178.2,178,175,179,180,175,178.9,176.2,177,172.5,178,176.5]\n",
    "np.std(g)"
   ]
  },
  {
   "cell_type": "code",
   "execution_count": null,
   "id": "d84d5655-9de3-4626-a3b6-6bf2bf119f2b",
   "metadata": {},
   "outputs": [],
   "source": [
    "Q5. How are measures of dispersion such as range, variance, and standard deviation used to describe\n",
    "the spread of a dataset? Provide an example."
   ]
  },
  {
   "cell_type": "code",
   "execution_count": 11,
   "id": "51b67ade-63cb-4119-b74d-7d8f4b5f9765",
   "metadata": {},
   "outputs": [
    {
     "data": {
      "text/plain": [
       "<AxesSubplot: ylabel='Count'>"
      ]
     },
     "execution_count": 11,
     "metadata": {},
     "output_type": "execute_result"
    },
    {
     "data": {
      "image/png": "[encoded data removed]",
      "text/plain": [
       "<Figure size 640x480 with 1 Axes>"
      ]
     },
     "metadata": {},
     "output_type": "display_data"
    }
   ],
   "source": [
    "age_list=[178,177,176,177,178.2,178,175,179,180,175,178.9,176.2,177,172.5,178,176.5]\n",
    "import numpy as np\n",
    "np.std(age_list)\n",
    "import seaborn as sns\n",
    "sns.histplot(age_list,kde=True)"
   ]
  },
  {
   "cell_type": "code",
   "execution_count": 12,
   "id": "4b96fc1b-6e3d-47c3-be3f-630db8efeb4e",
   "metadata": {},
   "outputs": [],
   "source": [
    "#variance\n",
    "import pandas as pd\n",
    "data=[[10,20,34],[23,63,54],[23,34,52]]\n",
    "df=pd.DataFrame(data,columns=['A','B','C'])"
   ]
  },
  {
   "cell_type": "code",
   "execution_count": 13,
   "id": "a663eb56-f319-4dcc-825b-940673e5250f",
   "metadata": {},
   "outputs": [
    {
     "data": {
      "text/html": [
       "<div>\n",
       "<style scoped>\n",
       "    .dataframe tbody tr th:only-of-type {\n",
       "        vertical-align: middle;\n",
       "    }\n",
       "\n",
       "    .dataframe tbody tr th {\n",
       "        vertical-align: top;\n",
       "    }\n",
       "\n",
       "    .dataframe thead th {\n",
       "        text-align: right;\n",
       "    }\n",
       "</style>\n",
       "<table border=\"1\" class=\"dataframe\">\n",
       "  <thead>\n",
       "    <tr style=\"text-align: right;\">\n",
       "      <th></th>\n",
       "      <th>A</th>\n",
       "      <th>B</th>\n",
       "      <th>C</th>\n",
       "    </tr>\n",
       "  </thead>\n",
       "  <tbody>\n",
       "    <tr>\n",
       "      <th>0</th>\n",
       "      <td>10</td>\n",
       "      <td>20</td>\n",
       "      <td>34</td>\n",
       "    </tr>\n",
       "    <tr>\n",
       "      <th>1</th>\n",
       "      <td>23</td>\n",
       "      <td>63</td>\n",
       "      <td>54</td>\n",
       "    </tr>\n",
       "    <tr>\n",
       "      <th>2</th>\n",
       "      <td>23</td>\n",
       "      <td>34</td>\n",
       "      <td>52</td>\n",
       "    </tr>\n",
       "  </tbody>\n",
       "</table>\n",
       "</div>"
      ],
      "text/plain": [
       "    A   B   C\n",
       "0  10  20  34\n",
       "1  23  63  54\n",
       "2  23  34  52"
      ]
     },
     "execution_count": 13,
     "metadata": {},
     "output_type": "execute_result"
    }
   ],
   "source": [
    "df.head()"
   ]
  },
  {
   "cell_type": "code",
   "execution_count": 14,
   "id": "b5e3dfac-caeb-48d2-b7cd-110d95cc7a17",
   "metadata": {},
   "outputs": [
    {
     "data": {
      "text/plain": [
       "A     56.333333\n",
       "B    481.000000\n",
       "C    121.333333\n",
       "dtype: float64"
      ]
     },
     "execution_count": 14,
     "metadata": {},
     "output_type": "execute_result"
    }
   ],
   "source": [
    "df.var()"
   ]
  },
  {
   "cell_type": "code",
   "execution_count": 15,
   "id": "5ff57cf4-5e1f-4249-a5c4-cc4afec0d841",
   "metadata": {},
   "outputs": [
    {
     "data": {
      "text/plain": [
       "<AxesSubplot: ylabel='Count'>"
      ]
     },
     "execution_count": 15,
     "metadata": {},
     "output_type": "execute_result"
    },
    {
     "data": {
      "image/png": "[encoded data removed]",
      "text/plain": [
       "<Figure size 640x480 with 1 Axes>"
      ]
     },
     "metadata": {},
     "output_type": "display_data"
    }
   ],
   "source": [
    "sns.histplot(data,kde=True)"
   ]
  },
  {
   "cell_type": "code",
   "execution_count": 22,
   "id": "a7ad07a1-2b44-4e84-846f-de40b70d92e4",
   "metadata": {},
   "outputs": [
    {
     "data": {
      "text/plain": [
       "0    145.333333\n",
       "1    440.333333\n",
       "2    214.333333\n",
       "dtype: float64"
      ]
     },
     "execution_count": 22,
     "metadata": {},
     "output_type": "execute_result"
    }
   ],
   "source": [
    "df.var(axis=1)"
   ]
  },
  {
   "cell_type": "code",
   "execution_count": null,
   "id": "2866e252-d07e-4ed7-9d92-eba533ffc21e",
   "metadata": {},
   "outputs": [],
   "source": [
    "Q6. What is a Venn diagram?"
   ]
  },
  {
   "cell_type": "code",
   "execution_count": null,
   "id": "31e19dfe-594c-420f-8bbe-78eb3a824265",
   "metadata": {},
   "outputs": [],
   "source": [
    "A Venn diagram is a visual representation that uses overlapping circles or other shapes to show the relationships between different sets or groups of objects, elements, or concepts."
   ]
  },
  {
   "cell_type": "code",
   "execution_count": null,
   "id": "49559370-eedf-46f8-96a6-34f5abb310f0",
   "metadata": {},
   "outputs": [],
   "source": [
    "Q7. For the two given sets A = (2,3,4,5,6,7) & B = (0,2,6,8,10). Find:\n",
    "(i) A B\n",
    "(ii) A ⋃ B"
   ]
  },
  {
   "cell_type": "code",
   "execution_count": 24,
   "id": "3eeae54b-3c1e-4113-8075-d1a23a3d2aca",
   "metadata": {},
   "outputs": [
    {
     "ename": "SyntaxError",
     "evalue": "invalid syntax (4064732784.py, line 3)",
     "output_type": "error",
     "traceback": [
      "\u001b[0;36m  Cell \u001b[0;32mIn[24], line 3\u001b[0;36m\u001b[0m\n\u001b[0;31m    A %unalias B\u001b[0m\n\u001b[0m               ^\u001b[0m\n\u001b[0;31mSyntaxError\u001b[0m\u001b[0;31m:\u001b[0m invalid syntax\n"
     ]
    }
   ],
   "source": [
    "A = (2,3,4,5,6,7) \n",
    "B = (0,2,6,8,10)\n"
   ]
  },
  {
   "cell_type": "code",
   "execution_count": null,
   "id": "c8d90209-cf3a-42c0-9b85-d837069aca85",
   "metadata": {},
   "outputs": [],
   "source": [
    "Therefore, A ∩ B = {2, 6}.\n",
    "A ⋃ B = {0, 2, 3, 4, 5, 6, 7, 8, 10}."
   ]
  },
  {
   "cell_type": "code",
   "execution_count": null,
   "id": "d971309b-4b19-4fbe-80e2-f4ff02c3bca9",
   "metadata": {},
   "outputs": [],
   "source": [
    "Q8. What do you understand about skewness in data?"
   ]
  },
  {
   "cell_type": "code",
   "execution_count": 16,
   "id": "7b0e877b-f641-48a1-86d3-78c4e88d859a",
   "metadata": {},
   "outputs": [
    {
     "data": {
      "text/plain": [
       "<AxesSubplot: ylabel='Count'>"
      ]
     },
     "execution_count": 16,
     "metadata": {},
     "output_type": "execute_result"
    },
    {
     "data": {
      "image/png": "[encoded data removed]",
      "text/plain": [
       "<Figure size 640x480 with 1 Axes>"
      ]
     },
     "metadata": {},
     "output_type": "display_data"
    }
   ],
   "source": [
    "sns.histplot(data,kde=True)"
   ]
  },
  {
   "cell_type": "code",
   "execution_count": null,
   "id": "9b78750e-ec7b-4e43-bfd1-10a51be0d309",
   "metadata": {},
   "outputs": [],
   "source": [
    "Q10. Explain the difference between covariance and correlation. How are these measures used in\n",
    "statistical analysis?"
   ]
  },
  {
   "cell_type": "code",
   "execution_count": null,
   "id": "b17fe9b1-b7da-4211-8261-33ab88f1ef6d",
   "metadata": {},
   "outputs": [],
   "source": [
    "Covariance:\n",
    "Covariance measures the direction and strength of the linear relationship between two variables.\n",
    "Correlation:\n",
    "Correlation is a standardized measure that quantifies the strength and direction of the linear relationship between two variables."
   ]
  },
  {
   "cell_type": "code",
   "execution_count": null,
   "id": "437af92a-4572-4eeb-b9b3-bc08334fc2fa",
   "metadata": {},
   "outputs": [],
   "source": []
  }
 ],
 "metadata": {
  "kernelspec": {
   "display_name": "Python 3 (ipykernel)",
   "language": "python",
   "name": "python3"
  },
  "language_info": {
   "codemirror_mode": {
    "name": "ipython",
    "version": 3
   },
   "file_extension": ".py",
   "mimetype": "text/x-python",
   "name": "python",
   "nbconvert_exporter": "python",
   "pygments_lexer": "ipython3",
   "version": "3.10.8"
  }
 },
 "nbformat": 4,
 "nbformat_minor": 5
}
